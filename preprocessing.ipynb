{
 "cells": [
  {
   "cell_type": "markdown",
   "metadata": {},
   "source": [
    "## Preprocessing notebook"
   ]
  },
  {
   "cell_type": "code",
   "execution_count": null,
   "metadata": {},
   "outputs": [],
   "source": [
    "import cv2\n",
    "import os\n",
    "import glob\n",
    "\n",
    "input_path = \"Cityscapes/leftImg8bit/train\"\n",
    "label_path = \"Cityscapes/gtFine/train\"\n",
    "output_image_path = \"Cityscapes/resized/leftImg8bit/train\"\n",
    "output_label_path = \"Cityscapes/resized/gtFine/train\"\n",
    "\n",
    "os.makedirs(output_image_path, exist_ok=True)\n",
    "os.makedirs(output_label_path, exist_ok=True)\n",
    "\n",
    "target_size = (512, 256)\n",
    "\n",
    "# Resize input images\n",
    "for file in glob.glob(input_path + '/*.png'):\n",
    "    img = cv2.imread(file)\n",
    "    img_resized = cv2.resize(img, target_size, interpolation=cv2.INTER_LINEAR)\n",
    "    cv2.imwrite(os.path.join(output_image_path, os.path.basename(file)), img_resized)\n",
    "\n",
    "# Resize ground truth masks\n",
    "for file in glob.glob(label_path + '/*_labelIds.png'):\n",
    "    mask = cv2.imread(file, cv2.IMREAD_UNCHANGED)\n",
    "    mask_resized = cv2.resize(mask, target_size, interpolation=cv2.INTER_NEAREST)  # Nearest-neighbor for discrete labels\n",
    "    cv2.imwrite(os.path.join(output_label_path, os.path.basename(file)), mask_resized)\n"
   ]
  }
 ],
 "metadata": {
  "kernelspec": {
   "display_name": "ml-llm-env",
   "language": "python",
   "name": "python3"
  },
  "language_info": {
   "name": "python",
   "version": "3.10.16"
  }
 },
 "nbformat": 4,
 "nbformat_minor": 2
}
