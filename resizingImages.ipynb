{
 "cells": [
  {
   "cell_type": "markdown",
   "metadata": {},
   "source": [
    "## Preprocessing notebook"
   ]
  },
  {
   "cell_type": "code",
   "execution_count": 1,
   "metadata": {},
   "outputs": [],
   "source": [
    "# Importing the libraries\n",
    "import cv2\n",
    "import os\n",
    "import glob\n",
    "from tqdm import tqdm"
   ]
  },
  {
   "cell_type": "code",
   "execution_count": 2,
   "metadata": {},
   "outputs": [],
   "source": [
    "# Paths for train, val, and test sets\n",
    "input_paths = {\n",
    "    \"train\": \"Cityscapes/leftImg8bit/train\",\n",
    "    \"val\": \"Cityscapes/leftImg8bit/val\",\n",
    "    \"test\": \"Cityscapes/leftImg8bit/test\"\n",
    "}\n",
    "label_paths = {\n",
    "    \"train\": \"Cityscapes/gtFine/train\",\n",
    "    \"val\": \"Cityscapes/gtFine/val\",\n",
    "    \"test\": \"Cityscapes/gtFine/test\"\n",
    "}\n",
    "output_image_paths = {\n",
    "    \"train\": \"Cityscapes/resized/leftImg8bit/train\",\n",
    "    \"val\": \"Cityscapes/resized/leftImg8bit/val\",\n",
    "    \"test\": \"Cityscapes/resized/leftImg8bit/test\"\n",
    "}\n",
    "output_label_id_paths = {\n",
    "    \"train\": \"Cityscapes/resized/gtFine/train/labelIds\",\n",
    "    \"val\": \"Cityscapes/resized/gtFine/val/labelIds\",\n",
    "    \"test\": \"Cityscapes/resized/gtFine/test/labelIds\"\n",
    "}\n",
    "output_color_paths = {\n",
    "    \"train\": \"Cityscapes/resized/gtFine/train/color\",\n",
    "    \"val\": \"Cityscapes/resized/gtFine/val/color\",\n",
    "    \"test\": \"Cityscapes/resized/gtFine/test/color\"\n",
    "}\n"
   ]
  },
  {
   "cell_type": "code",
   "execution_count": 3,
   "metadata": {},
   "outputs": [],
   "source": [
    "# Defining target size\n",
    "target_size = (512, 256)  # (width, height)"
   ]
  },
  {
   "cell_type": "code",
   "execution_count": 4,
   "metadata": {},
   "outputs": [],
   "source": [
    "# Helper function to create output directories recursively\n",
    "def create_output_path(file, base_input_path, base_output_path):\n",
    "    relative_path = os.path.relpath(file, base_input_path)\n",
    "    output_file = os.path.join(base_output_path, relative_path)\n",
    "    os.makedirs(os.path.dirname(output_file), exist_ok=True)\n",
    "    return output_file"
   ]
  },
  {
   "cell_type": "code",
   "execution_count": 5,
   "metadata": {},
   "outputs": [],
   "source": [
    "# Resize input images\n",
    "def resize_images(split):\n",
    "    print(f\"\\n🔹 Resizing {split} input images...\")\n",
    "    input_files = glob.glob(os.path.join(input_paths[split], '**', '*.png'), recursive=True)\n",
    "    for file in tqdm(input_files, desc=f\"Resizing {split.capitalize()} Images\", unit=\"file\"):\n",
    "        img = cv2.imread(file)\n",
    "        img_resized = cv2.resize(img, target_size, interpolation=cv2.INTER_LINEAR)\n",
    "        output_file = create_output_path(file, input_paths[split], output_image_paths[split])\n",
    "        cv2.imwrite(output_file, img_resized)"
   ]
  },
  {
   "cell_type": "code",
   "execution_count": 6,
   "metadata": {},
   "outputs": [],
   "source": [
    "# Resize label IDs\n",
    "def resize_labels(split):\n",
    "    print(f\"\\n🔹 Resizing {split} ground truth label IDs...\")\n",
    "    label_files = glob.glob(os.path.join(label_paths[split], '**', '*_labelIds.png'), recursive=True)\n",
    "    for file in tqdm(label_files, desc=f\"Resizing {split.capitalize()} Label IDs\", unit=\"file\"):\n",
    "        mask = cv2.imread(file, cv2.IMREAD_UNCHANGED)\n",
    "        mask_resized = cv2.resize(mask, target_size, interpolation=cv2.INTER_NEAREST)  # Nearest-neighbor for IDs\n",
    "        output_file = create_output_path(file, label_paths[split], output_label_id_paths[split])\n",
    "        cv2.imwrite(output_file, mask_resized)"
   ]
  },
  {
   "cell_type": "code",
   "execution_count": 7,
   "metadata": {},
   "outputs": [],
   "source": [
    "# Resize color masks\n",
    "def resize_color_masks(split):\n",
    "    print(f\"\\n🔹 Resizing {split} ground truth color masks...\")\n",
    "    color_files = glob.glob(os.path.join(label_paths[split], '**', '*_color.png'), recursive=True)\n",
    "    for file in tqdm(color_files, desc=f\"Resizing {split.capitalize()} Color Masks\", unit=\"file\"):\n",
    "        mask = cv2.imread(file)\n",
    "        mask_resized = cv2.resize(mask, target_size, interpolation=cv2.INTER_LINEAR)\n",
    "        output_file = create_output_path(file, label_paths[split], output_color_paths[split])\n",
    "        cv2.imwrite(output_file, mask_resized)"
   ]
  },
  {
   "cell_type": "code",
   "execution_count": 8,
   "metadata": {},
   "outputs": [
    {
     "name": "stdout",
     "output_type": "stream",
     "text": [
      "\n",
      "🔹 Resizing train input images...\n"
     ]
    },
    {
     "name": "stderr",
     "output_type": "stream",
     "text": [
      "Resizing Train Images: 100%|██████████| 2975/2975 [06:47<00:00,  7.29file/s]\n"
     ]
    },
    {
     "name": "stdout",
     "output_type": "stream",
     "text": [
      "\n",
      "🔹 Resizing train ground truth label IDs...\n"
     ]
    },
    {
     "name": "stderr",
     "output_type": "stream",
     "text": [
      "Resizing Train Label IDs: 100%|██████████| 2975/2975 [00:38<00:00, 76.37file/s]\n"
     ]
    },
    {
     "name": "stdout",
     "output_type": "stream",
     "text": [
      "\n",
      "🔹 Resizing train ground truth color masks...\n"
     ]
    },
    {
     "name": "stderr",
     "output_type": "stream",
     "text": [
      "Resizing Train Color Masks: 100%|██████████| 2975/2975 [02:38<00:00, 18.75file/s]\n"
     ]
    },
    {
     "name": "stdout",
     "output_type": "stream",
     "text": [
      "\n",
      "🔹 Resizing val input images...\n"
     ]
    },
    {
     "name": "stderr",
     "output_type": "stream",
     "text": [
      "Resizing Val Images: 100%|██████████| 500/500 [01:31<00:00,  5.46file/s]\n"
     ]
    },
    {
     "name": "stdout",
     "output_type": "stream",
     "text": [
      "\n",
      "🔹 Resizing val ground truth label IDs...\n"
     ]
    },
    {
     "name": "stderr",
     "output_type": "stream",
     "text": [
      "Resizing Val Label IDs: 100%|██████████| 500/500 [00:09<00:00, 50.14file/s]\n"
     ]
    },
    {
     "name": "stdout",
     "output_type": "stream",
     "text": [
      "\n",
      "🔹 Resizing val ground truth color masks...\n"
     ]
    },
    {
     "name": "stderr",
     "output_type": "stream",
     "text": [
      "Resizing Val Color Masks: 100%|██████████| 500/500 [00:32<00:00, 15.38file/s]\n"
     ]
    },
    {
     "name": "stdout",
     "output_type": "stream",
     "text": [
      "\n",
      "🔹 Resizing test input images...\n"
     ]
    },
    {
     "name": "stderr",
     "output_type": "stream",
     "text": [
      "Resizing Test Images: 100%|██████████| 1525/1525 [04:24<00:00,  5.76file/s]\n"
     ]
    },
    {
     "name": "stdout",
     "output_type": "stream",
     "text": [
      "\n",
      "🔹 Resizing test ground truth label IDs...\n"
     ]
    },
    {
     "name": "stderr",
     "output_type": "stream",
     "text": [
      "Resizing Test Label IDs: 100%|██████████| 1525/1525 [00:19<00:00, 77.56file/s] \n"
     ]
    },
    {
     "name": "stdout",
     "output_type": "stream",
     "text": [
      "\n",
      "🔹 Resizing test ground truth color masks...\n"
     ]
    },
    {
     "name": "stderr",
     "output_type": "stream",
     "text": [
      "Resizing Test Color Masks: 100%|██████████| 1525/1525 [01:08<00:00, 22.26file/s]\n"
     ]
    }
   ],
   "source": [
    "# Process train, val, and test sets\n",
    "for split in [\"train\", \"val\", \"test\"]:\n",
    "    resize_images(split)\n",
    "    resize_labels(split)\n",
    "    resize_color_masks(split)"
   ]
  }
 ],
 "metadata": {
  "kernelspec": {
   "display_name": "ml-llm-env",
   "language": "python",
   "name": "python3"
  },
  "language_info": {
   "codemirror_mode": {
    "name": "ipython",
    "version": 3
   },
   "file_extension": ".py",
   "mimetype": "text/x-python",
   "name": "python",
   "nbconvert_exporter": "python",
   "pygments_lexer": "ipython3",
   "version": "3.10.16"
  }
 },
 "nbformat": 4,
 "nbformat_minor": 2
}
